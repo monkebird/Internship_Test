{
 "cells": [
  {
   "cell_type": "code",
   "execution_count": 6,
   "metadata": {},
   "outputs": [],
   "source": [
    "#загрузка библиотек\n",
    "import numpy as np\n",
    "import pandas as pd"
   ]
  },
  {
   "cell_type": "code",
   "execution_count": 7,
   "metadata": {},
   "outputs": [
    {
     "name": "stdout",
     "output_type": "stream",
     "text": [
      "Shape of data: (235258, 146)\n"
     ]
    },
    {
     "data": {
      "text/html": [
       "<div>\n",
       "<style scoped>\n",
       "    .dataframe tbody tr th:only-of-type {\n",
       "        vertical-align: middle;\n",
       "    }\n",
       "\n",
       "    .dataframe tbody tr th {\n",
       "        vertical-align: top;\n",
       "    }\n",
       "\n",
       "    .dataframe thead th {\n",
       "        text-align: right;\n",
       "    }\n",
       "</style>\n",
       "<table border=\"1\" class=\"dataframe\">\n",
       "  <thead>\n",
       "    <tr style=\"text-align: right;\">\n",
       "      <th></th>\n",
       "      <th>rank</th>\n",
       "      <th>query_id</th>\n",
       "      <th>feature_0</th>\n",
       "      <th>feature_1</th>\n",
       "      <th>feature_2</th>\n",
       "      <th>feature_3</th>\n",
       "      <th>feature_4</th>\n",
       "      <th>feature_5</th>\n",
       "      <th>feature_6</th>\n",
       "      <th>feature_7</th>\n",
       "      <th>...</th>\n",
       "      <th>feature_134</th>\n",
       "      <th>feature_135</th>\n",
       "      <th>feature_136</th>\n",
       "      <th>feature_137</th>\n",
       "      <th>feature_138</th>\n",
       "      <th>feature_139</th>\n",
       "      <th>feature_140</th>\n",
       "      <th>feature_141</th>\n",
       "      <th>feature_142</th>\n",
       "      <th>feature_143</th>\n",
       "    </tr>\n",
       "  </thead>\n",
       "  <tbody>\n",
       "    <tr>\n",
       "      <th>0</th>\n",
       "      <td>0</td>\n",
       "      <td>10</td>\n",
       "      <td>1.0</td>\n",
       "      <td>0.0</td>\n",
       "      <td>1.0</td>\n",
       "      <td>3.0</td>\n",
       "      <td>3.0</td>\n",
       "      <td>0.333333</td>\n",
       "      <td>0.0</td>\n",
       "      <td>0.333333</td>\n",
       "      <td>...</td>\n",
       "      <td>0.0</td>\n",
       "      <td>0.000000</td>\n",
       "      <td>0.454545</td>\n",
       "      <td>0.890238</td>\n",
       "      <td>8.655534</td>\n",
       "      <td>1.000000</td>\n",
       "      <td>0.077778</td>\n",
       "      <td>0.002222</td>\n",
       "      <td>1.0</td>\n",
       "      <td>0.333333</td>\n",
       "    </tr>\n",
       "    <tr>\n",
       "      <th>1</th>\n",
       "      <td>1</td>\n",
       "      <td>10</td>\n",
       "      <td>3.0</td>\n",
       "      <td>0.0</td>\n",
       "      <td>3.0</td>\n",
       "      <td>0.0</td>\n",
       "      <td>3.0</td>\n",
       "      <td>1.000000</td>\n",
       "      <td>0.0</td>\n",
       "      <td>1.000000</td>\n",
       "      <td>...</td>\n",
       "      <td>0.0</td>\n",
       "      <td>0.000000</td>\n",
       "      <td>0.000000</td>\n",
       "      <td>0.773976</td>\n",
       "      <td>23.130514</td>\n",
       "      <td>0.000000</td>\n",
       "      <td>0.027826</td>\n",
       "      <td>0.000430</td>\n",
       "      <td>44.0</td>\n",
       "      <td>14.666667</td>\n",
       "    </tr>\n",
       "    <tr>\n",
       "      <th>2</th>\n",
       "      <td>0</td>\n",
       "      <td>10</td>\n",
       "      <td>3.0</td>\n",
       "      <td>0.0</td>\n",
       "      <td>2.0</td>\n",
       "      <td>0.0</td>\n",
       "      <td>3.0</td>\n",
       "      <td>1.000000</td>\n",
       "      <td>0.0</td>\n",
       "      <td>0.666667</td>\n",
       "      <td>...</td>\n",
       "      <td>0.0</td>\n",
       "      <td>0.000000</td>\n",
       "      <td>0.000000</td>\n",
       "      <td>0.918308</td>\n",
       "      <td>13.351339</td>\n",
       "      <td>0.000000</td>\n",
       "      <td>0.014925</td>\n",
       "      <td>0.000104</td>\n",
       "      <td>22.0</td>\n",
       "      <td>7.333333</td>\n",
       "    </tr>\n",
       "    <tr>\n",
       "      <th>3</th>\n",
       "      <td>1</td>\n",
       "      <td>10</td>\n",
       "      <td>3.0</td>\n",
       "      <td>0.0</td>\n",
       "      <td>3.0</td>\n",
       "      <td>0.0</td>\n",
       "      <td>3.0</td>\n",
       "      <td>1.000000</td>\n",
       "      <td>0.0</td>\n",
       "      <td>1.000000</td>\n",
       "      <td>...</td>\n",
       "      <td>0.0</td>\n",
       "      <td>0.000000</td>\n",
       "      <td>0.000000</td>\n",
       "      <td>0.975355</td>\n",
       "      <td>18.240926</td>\n",
       "      <td>0.000000</td>\n",
       "      <td>0.053140</td>\n",
       "      <td>0.000255</td>\n",
       "      <td>8.0</td>\n",
       "      <td>2.666667</td>\n",
       "    </tr>\n",
       "    <tr>\n",
       "      <th>4</th>\n",
       "      <td>2</td>\n",
       "      <td>10</td>\n",
       "      <td>3.0</td>\n",
       "      <td>0.0</td>\n",
       "      <td>3.0</td>\n",
       "      <td>1.0</td>\n",
       "      <td>3.0</td>\n",
       "      <td>1.000000</td>\n",
       "      <td>0.0</td>\n",
       "      <td>1.000000</td>\n",
       "      <td>...</td>\n",
       "      <td>273.0</td>\n",
       "      <td>79.670665</td>\n",
       "      <td>0.200000</td>\n",
       "      <td>0.990119</td>\n",
       "      <td>31.786048</td>\n",
       "      <td>0.333333</td>\n",
       "      <td>0.046512</td>\n",
       "      <td>0.000307</td>\n",
       "      <td>24.0</td>\n",
       "      <td>8.000000</td>\n",
       "    </tr>\n",
       "  </tbody>\n",
       "</table>\n",
       "<p>5 rows × 146 columns</p>\n",
       "</div>"
      ],
      "text/plain": [
       "   rank  query_id  feature_0  feature_1  feature_2  feature_3  feature_4  \\\n",
       "0     0        10        1.0        0.0        1.0        3.0        3.0   \n",
       "1     1        10        3.0        0.0        3.0        0.0        3.0   \n",
       "2     0        10        3.0        0.0        2.0        0.0        3.0   \n",
       "3     1        10        3.0        0.0        3.0        0.0        3.0   \n",
       "4     2        10        3.0        0.0        3.0        1.0        3.0   \n",
       "\n",
       "   feature_5  feature_6  feature_7  ...  feature_134  feature_135  \\\n",
       "0   0.333333        0.0   0.333333  ...          0.0     0.000000   \n",
       "1   1.000000        0.0   1.000000  ...          0.0     0.000000   \n",
       "2   1.000000        0.0   0.666667  ...          0.0     0.000000   \n",
       "3   1.000000        0.0   1.000000  ...          0.0     0.000000   \n",
       "4   1.000000        0.0   1.000000  ...        273.0    79.670665   \n",
       "\n",
       "   feature_136  feature_137  feature_138  feature_139  feature_140  \\\n",
       "0     0.454545     0.890238     8.655534     1.000000     0.077778   \n",
       "1     0.000000     0.773976    23.130514     0.000000     0.027826   \n",
       "2     0.000000     0.918308    13.351339     0.000000     0.014925   \n",
       "3     0.000000     0.975355    18.240926     0.000000     0.053140   \n",
       "4     0.200000     0.990119    31.786048     0.333333     0.046512   \n",
       "\n",
       "   feature_141  feature_142  feature_143  \n",
       "0     0.002222          1.0     0.333333  \n",
       "1     0.000430         44.0    14.666667  \n",
       "2     0.000104         22.0     7.333333  \n",
       "3     0.000255          8.0     2.666667  \n",
       "4     0.000307         24.0     8.000000  \n",
       "\n",
       "[5 rows x 146 columns]"
      ]
     },
     "execution_count": 7,
     "metadata": {},
     "output_type": "execute_result"
    }
   ],
   "source": [
    "#чтение файла\n",
    "df = pd.read_csv('intern_task.csv')\n",
    "print('Shape of data: {}'.format(df.shape))\n",
    "df.head()"
   ]
  },
  {
   "cell_type": "markdown",
   "metadata": {},
   "source": [
    "# Подготовка данных"
   ]
  },
  {
   "cell_type": "code",
   "execution_count": 8,
   "metadata": {},
   "outputs": [
    {
     "name": "stdout",
     "output_type": "stream",
     "text": [
      "<class 'pandas.core.frame.DataFrame'>\n",
      "RangeIndex: 235258 entries, 0 to 235257\n",
      "Columns: 146 entries, rank to feature_143\n",
      "dtypes: float64(140), int64(6)\n",
      "memory usage: 262.1 MB\n"
     ]
    },
    {
     "data": {
      "text/plain": [
       "None"
      ]
     },
     "metadata": {},
     "output_type": "display_data"
    }
   ],
   "source": [
    "display(df.info())"
   ]
  },
  {
   "cell_type": "code",
   "execution_count": 9,
   "metadata": {},
   "outputs": [
    {
     "name": "stdout",
     "output_type": "stream",
     "text": [
      "Количество дубликатов: 0\n",
      "Количество пропусков: 235258\n"
     ]
    }
   ],
   "source": [
    "print('Количество дубликатов: {}'.format(df[df.duplicated()].shape[0]))\n",
    "print('Количество пропусков: {}'.format(df[df.isnull().tail()].shape[0]))"
   ]
  },
  {
   "cell_type": "code",
   "execution_count": 10,
   "metadata": {},
   "outputs": [
    {
     "data": {
      "text/plain": [
       "Series([], dtype: float64)"
      ]
     },
     "metadata": {},
     "output_type": "display_data"
    }
   ],
   "source": [
    "cols_null_persent = df.isnull().mean() * 100\n",
    "cols_with_null = cols_null_persent[cols_null_persent>0].sort_values(ascending=False)\n",
    "display(cols_with_null)"
   ]
  },
  {
   "cell_type": "markdown",
   "metadata": {},
   "source": [
    "Дубликатов и пропусков нет"
   ]
  },
  {
   "cell_type": "markdown",
   "metadata": {},
   "source": [
    "# Построение модели"
   ]
  },
  {
   "cell_type": "code",
   "execution_count": 11,
   "metadata": {},
   "outputs": [
    {
     "name": "stdout",
     "output_type": "stream",
     "text": [
      "Train shape: (188206, 145)\n",
      "Test shape: (47052, 145)\n"
     ]
    }
   ],
   "source": [
    "#X - матрица наблюдений, y - столбец правильных ответов\n",
    "X = df.drop('rank', axis=1)\n",
    "y = df['rank']\n",
    "from sklearn.model_selection import train_test_split\n",
    "#создаем тренировочную и тестовую выборки \n",
    "X_train, X_test, y_train, y_test = train_test_split(\n",
    "    X, y, \n",
    "    test_size=0.2, \n",
    "    random_state=42 \n",
    ")\n",
    "print('Train shape: {}'.format(X_train.shape))\n",
    "print('Test shape: {}'.format(X_test.shape))"
   ]
  },
  {
   "cell_type": "markdown",
   "metadata": {},
   "source": [
    "Будем использовать Gradient Boosting Machines (GBM) "
   ]
  },
  {
   "cell_type": "code",
   "execution_count": 12,
   "metadata": {},
   "outputs": [],
   "source": [
    "import xgboost as xgb"
   ]
  },
  {
   "cell_type": "code",
   "execution_count": 13,
   "metadata": {},
   "outputs": [],
   "source": [
    "#создаем DMatrix для обучающего и тестового наборов\n",
    "dtrain = xgb.DMatrix(X_train, label=y_train)\n",
    "dtest = xgb.DMatrix(X_test, label=y_test)"
   ]
  },
  {
   "cell_type": "code",
   "execution_count": 14,
   "metadata": {},
   "outputs": [],
   "source": [
    "#определяем параметры модели\n",
    "params = {\n",
    "    'objective': 'rank:ndcg',  # используем ndcg в качестве целевой функции\n",
    "    'eval_metric': 'ndcg',     # используем ndcg для оценки качества модели\n",
    "    'eta': 0.1,                # скорость обучения\n",
    "    'max_depth': 6,            # максимальная глубина деревьев\n",
    "    'min_child_weight': 1,     # минимальный вес дочернего узла\n",
    "    'subsample': 0.8,          # доля обучающих данных, используемая для обучения каждого дерева\n",
    "    'colsample_bytree': 0.8,   # доля признаков, используемых для обучения каждого дерева\n",
    "    'lambda': 1,               # параметр регуляризации L2\n",
    "    'alpha': 0.1,              # параметр регуляризации L1\n",
    "    'nthread': 4,              # количество потоков для обработки\n",
    "    'random_state': 42         # задаем случайное состояние для воспроизводимости результатов\n",
    "}\n"
   ]
  },
  {
   "cell_type": "code",
   "execution_count": 15,
   "metadata": {},
   "outputs": [],
   "source": [
    "#обучаем модели\n",
    "num_round = 100  # количество итераций обучения\n",
    "bst = xgb.train(params, dtrain, num_round)"
   ]
  },
  {
   "cell_type": "code",
   "execution_count": 16,
   "metadata": {},
   "outputs": [],
   "source": [
    "#строим предсказание на тестовом наборе\n",
    "y_pred = bst.predict(dtest)\n",
    "y_true = df['rank']"
   ]
  },
  {
   "cell_type": "markdown",
   "metadata": {},
   "source": [
    "# Оценка качества модели"
   ]
  },
  {
   "cell_type": "code",
   "execution_count": 17,
   "metadata": {},
   "outputs": [
    {
     "name": "stdout",
     "output_type": "stream",
     "text": [
      "NDCG@5: 0.9229457959214169\n"
     ]
    }
   ],
   "source": [
    "#расчитываем ndcg@5\n",
    "from sklearn.metrics import ndcg_score\n",
    "ndcg_5 = ndcg_score([y_test], [y_pred], k=5)\n",
    "print(\"NDCG@5:\", ndcg_5)"
   ]
  },
  {
   "cell_type": "code",
   "execution_count": 18,
   "metadata": {},
   "outputs": [
    {
     "name": "stdout",
     "output_type": "stream",
     "text": [
      "Mean Reciprocal Rank (MRR): 0.5\n"
     ]
    }
   ],
   "source": [
    "#расчитываем mrr\n",
    "def mean_reciprocal_rank(y_true, y_pred):\n",
    "    reciprocal_ranks = []\n",
    "    relevant_indices = [i for i, y in enumerate(y_true) if y == 1]\n",
    "    if len(relevant_indices) == 0:\n",
    "        return 0\n",
    "    else:\n",
    "        first_relevant_index = min(relevant_indices)\n",
    "        return 1 / (first_relevant_index + 1) \n",
    "\n",
    "mrr = mean_reciprocal_rank(y_true, y_pred)\n",
    "print(\"Mean Reciprocal Rank (MRR):\", mrr)\n"
   ]
  },
  {
   "cell_type": "code",
   "execution_count": 19,
   "metadata": {},
   "outputs": [
    {
     "name": "stdout",
     "output_type": "stream",
     "text": [
      "Precision at 5 : 0.4\n"
     ]
    }
   ],
   "source": [
    "#расчитываем precision@k\n",
    "def precision_at_k(y_true, y_pred, k):\n",
    "    sorted_indices = np.argsort(y_pred)[::-1]\n",
    "    top_k_indices = sorted_indices[:k]\n",
    "    relevant_documents = [1 if y_true[i] == 1 else 0 for i in top_k_indices]\n",
    "    precision = np.sum(relevant_documents) / k\n",
    "    \n",
    "    return precision\n",
    "\n",
    "k = 5\n",
    "\n",
    "precision = precision_at_k(y_true, y_pred, k)\n",
    "print(\"Precision at\", k, \":\", precision)"
   ]
  },
  {
   "cell_type": "markdown",
   "metadata": {},
   "source": [
    "Модель обладает потенциалом для улучшения, но уже достигла неплохих результатов в ранжировании документов по их релевантности для пользовательских запросов."
   ]
  }
 ],
 "metadata": {
  "kernelspec": {
   "display_name": "Python 3",
   "language": "python",
   "name": "python3"
  },
  "language_info": {
   "codemirror_mode": {
    "name": "ipython",
    "version": 3
   },
   "file_extension": ".py",
   "mimetype": "text/x-python",
   "name": "python",
   "nbconvert_exporter": "python",
   "pygments_lexer": "ipython3",
   "version": "3.11.4"
  }
 },
 "nbformat": 4,
 "nbformat_minor": 2
}
